{
 "metadata": {
  "language_info": {
   "codemirror_mode": {
    "name": "ipython",
    "version": 3
   },
   "file_extension": ".py",
   "mimetype": "text/x-python",
   "name": "python",
   "nbconvert_exporter": "python",
   "pygments_lexer": "ipython3",
   "version": "3.8.5-final"
  },
  "orig_nbformat": 2,
  "kernelspec": {
   "name": "python3",
   "display_name": "Python 3"
  }
 },
 "nbformat": 4,
 "nbformat_minor": 2,
 "cells": [
  {
   "cell_type": "code",
   "execution_count": 8,
   "metadata": {},
   "outputs": [],
   "source": [
    "import os\n",
    "os.chdir(\"C:\\\\Users\\\\Uyen\\\\Documents\\\\nlp\\\\thesis\")"
   ]
  },
  {
   "cell_type": "code",
   "execution_count": 9,
   "metadata": {},
   "outputs": [],
   "source": [
    "import swifter\n",
    "import string\n",
    "import pandas as pd\n",
    "\n",
    "import YndataPreprocess"
   ]
  },
  {
   "cell_type": "code",
   "execution_count": 3,
   "metadata": {},
   "outputs": [],
   "source": [
    "DATA_FILE = \"../YNdata/PRICE_MAY_NOV_2019_cleaned.csv\"\n",
    "train_df = pd.read_csv(DATA_FILE)\n",
    "df = train_df[['label', 'search_text']]"
   ]
  },
  {
   "cell_type": "code",
   "execution_count": 4,
   "metadata": {},
   "outputs": [],
   "source": [
    "# import importlib\n",
    "\n",
    "# importlib.reload(YndataPreprocess)\n",
    "# import YndataPreprocess"
   ]
  },
  {
   "cell_type": "code",
   "execution_count": 7,
   "metadata": {},
   "outputs": [
    {
     "output_type": "error",
     "ename": "NameError",
     "evalue": "name 'YndataPreprocess' is not defined",
     "traceback": [
      "\u001b[1;31m---------------------------------------------------------------------------\u001b[0m",
      "\u001b[1;31mNameError\u001b[0m                                 Traceback (most recent call last)",
      "\u001b[1;32m<ipython-input-7-5e4eb9930b4a>\u001b[0m in \u001b[0;36m<module>\u001b[1;34m\u001b[0m\n\u001b[1;32m----> 1\u001b[1;33m \u001b[0mpipeline\u001b[0m \u001b[1;33m=\u001b[0m \u001b[0mYndataPreprocess\u001b[0m\u001b[1;33m.\u001b[0m\u001b[0mProcessing_Pipeline\u001b[0m\u001b[1;33m(\u001b[0m\u001b[1;33m)\u001b[0m\u001b[1;33m\u001b[0m\u001b[1;33m\u001b[0m\u001b[0m\n\u001b[0m\u001b[0;32m      2\u001b[0m \u001b[0mdf_\u001b[0m \u001b[1;33m=\u001b[0m \u001b[0mpipeline\u001b[0m\u001b[1;33m(\u001b[0m\u001b[0mdf\u001b[0m\u001b[1;33m,\u001b[0m \u001b[1;34m'search_text'\u001b[0m\u001b[1;33m,\u001b[0m \u001b[0mYndataPreprocess\u001b[0m\u001b[1;33m.\u001b[0m\u001b[0mget_text\u001b[0m\u001b[1;33m,\u001b[0m \u001b[0mYndataPreprocess\u001b[0m\u001b[1;33m.\u001b[0m\u001b[0mnormalize\u001b[0m\u001b[1;33m)\u001b[0m\u001b[1;33m\u001b[0m\u001b[1;33m\u001b[0m\u001b[0m\n",
      "\u001b[1;31mNameError\u001b[0m: name 'YndataPreprocess' is not defined"
     ]
    }
   ],
   "source": [
    "pipeline = YndataPreprocess.Processing_Pipeline()\n",
    "df_ = pipeline(df, 'search_text', YndataPreprocess.get_text, YndataPreprocess.normalize)"
   ]
  },
  {
   "source": [
    "df_.to_csv(DATA_FILE)"
   ],
   "cell_type": "code",
   "metadata": {},
   "execution_count": 6,
   "outputs": []
  },
  {
   "source": [
    "### Split data to trainset, test set \n",
    "### Save all to right place"
   ],
   "cell_type": "markdown",
   "metadata": {}
  },
  {
   "cell_type": "code",
   "execution_count": 10,
   "metadata": {},
   "outputs": [],
   "source": [
    "import config\n",
    "\n",
    "cf = config.Configurate()\n",
    "data_path = cf[\"Datapath\"][\"Root\"]\n",
    "train_file = cf[\"Datapath\"][\"Train\"]\n",
    "test_file = cf[\"Datapath\"][\"Test\"]\n",
    "valid_file = cf[\"Datapath\"][\"Validate\"]"
   ]
  },
  {
   "cell_type": "code",
   "execution_count": 8,
   "metadata": {},
   "outputs": [],
   "source": [
    "import sklearn\n",
    "from sklearn.model_selection import train_test_split\n",
    "\n",
    "train_, test_ = train_test_split(df_, test_size = 0.3, random_state=282)"
   ]
  },
  {
   "cell_type": "code",
   "execution_count": 9,
   "metadata": {},
   "outputs": [
    {
     "output_type": "stream",
     "name": "stdout",
     "text": [
      "Trainset label distribution: \n0    2119293\n1      21950\nName: label, dtype: int64\n--------------------\nTestset label distribution: \n0    908218\n1      9458\nName: label, dtype: int64\n"
     ]
    }
   ],
   "source": [
    "print(\"Trainset label distribution: \")\n",
    "print(train_.label.value_counts())\n",
    "print(\"--\"*10)\n",
    "print(\"Testset label distribution: \")\n",
    "print(test_.label.value_counts())"
   ]
  },
  {
   "cell_type": "code",
   "execution_count": 10,
   "metadata": {},
   "outputs": [],
   "source": [
    "train_.to_csv(os.path.join(data_path, train_file))\n",
    "test_.to_csv(os.path.join(data_path, test_file))"
   ]
  },
  {
   "cell_type": "code",
   "execution_count": null,
   "metadata": {},
   "outputs": [],
   "source": []
  },
  {
   "cell_type": "code",
   "execution_count": 3,
   "metadata": {},
   "outputs": [],
   "source": [
    "import pandas as pd "
   ]
  },
  {
   "cell_type": "code",
   "execution_count": 10,
   "metadata": {},
   "outputs": [],
   "source": [
    "df = pd.read_csv(os.path.join(data_path, valid_file), index_col=0)"
   ]
  },
  {
   "cell_type": "code",
   "execution_count": 11,
   "metadata": {},
   "outputs": [
    {
     "output_type": "execute_result",
     "data": {
      "text/plain": [
       "(917676, 2)"
      ]
     },
     "metadata": {},
     "execution_count": 11
    }
   ],
   "source": [
    "df.shape"
   ]
  },
  {
   "cell_type": "code",
   "execution_count": 12,
   "metadata": {},
   "outputs": [
    {
     "output_type": "execute_result",
     "data": {
      "text/plain": [
       "         label                                               text\n",
       "645904       0                                     sữa tuyệt thật\n",
       "51646        0                                    mẹ tâm chung ơi\n",
       "551712       0  nguyễn trang phương .mjh cug moi doi numthag d...\n",
       "899488       0                                                 dạ\n",
       "2580883      0  bộ numtã quần cao cấp moony xxl - nummiếng dàn...\n",
       "...        ...                                                ...\n",
       "129053       0     đào nhung c thấy bé nhà c uống từ nhỏ tới lớn \n",
       "2040437      0                                      nhớ xả đao ni\n",
       "575792       0  cục xươnghôm e cũng mua hộp fiso này cho bé mà...\n",
       "863843       0  khuyến mại này của nan áp dụng đến bao giờ em nhỉ\n",
       "2116113      0  {\"ynm_des\":\"tự tin thách thức nóng hè cùng sum...\n",
       "\n",
       "[917676 rows x 2 columns]"
      ],
      "text/html": "<div>\n<style scoped>\n    .dataframe tbody tr th:only-of-type {\n        vertical-align: middle;\n    }\n\n    .dataframe tbody tr th {\n        vertical-align: top;\n    }\n\n    .dataframe thead th {\n        text-align: right;\n    }\n</style>\n<table border=\"1\" class=\"dataframe\">\n  <thead>\n    <tr style=\"text-align: right;\">\n      <th></th>\n      <th>label</th>\n      <th>text</th>\n    </tr>\n  </thead>\n  <tbody>\n    <tr>\n      <th>645904</th>\n      <td>0</td>\n      <td>sữa tuyệt thật</td>\n    </tr>\n    <tr>\n      <th>51646</th>\n      <td>0</td>\n      <td>mẹ tâm chung ơi</td>\n    </tr>\n    <tr>\n      <th>551712</th>\n      <td>0</td>\n      <td>nguyễn trang phương .mjh cug moi doi numthag d...</td>\n    </tr>\n    <tr>\n      <th>899488</th>\n      <td>0</td>\n      <td>dạ</td>\n    </tr>\n    <tr>\n      <th>2580883</th>\n      <td>0</td>\n      <td>bộ numtã quần cao cấp moony xxl - nummiếng dàn...</td>\n    </tr>\n    <tr>\n      <th>...</th>\n      <td>...</td>\n      <td>...</td>\n    </tr>\n    <tr>\n      <th>129053</th>\n      <td>0</td>\n      <td>đào nhung c thấy bé nhà c uống từ nhỏ tới lớn</td>\n    </tr>\n    <tr>\n      <th>2040437</th>\n      <td>0</td>\n      <td>nhớ xả đao ni</td>\n    </tr>\n    <tr>\n      <th>575792</th>\n      <td>0</td>\n      <td>cục xươnghôm e cũng mua hộp fiso này cho bé mà...</td>\n    </tr>\n    <tr>\n      <th>863843</th>\n      <td>0</td>\n      <td>khuyến mại này của nan áp dụng đến bao giờ em nhỉ</td>\n    </tr>\n    <tr>\n      <th>2116113</th>\n      <td>0</td>\n      <td>{\"ynm_des\":\"tự tin thách thức nóng hè cùng sum...</td>\n    </tr>\n  </tbody>\n</table>\n<p>917676 rows × 2 columns</p>\n</div>"
     },
     "metadata": {},
     "execution_count": 12
    }
   ],
   "source": [
    "df"
   ]
  },
  {
   "cell_type": "code",
   "execution_count": 13,
   "metadata": {},
   "outputs": [],
   "source": [
    "from sklearn.model_selection import train_test_split\n",
    "\n",
    "test, valid = train_test_split(df, test_size=0.5)"
   ]
  },
  {
   "cell_type": "code",
   "execution_count": 15,
   "metadata": {},
   "outputs": [
    {
     "output_type": "execute_result",
     "data": {
      "text/plain": [
       "((458838, 2), (458838, 2))"
      ]
     },
     "metadata": {},
     "execution_count": 15
    }
   ],
   "source": [
    "test.shape, valid.shape"
   ]
  },
  {
   "cell_type": "code",
   "execution_count": 16,
   "metadata": {},
   "outputs": [
    {
     "output_type": "execute_result",
     "data": {
      "text/plain": [
       "         label                                               text\n",
       "2552039      0  {\"ynm_des\":\" dương dương xuất hiện tại sự kiện...\n",
       "2184019      0                                  hha nhảy ngầu quá\n",
       "1989594      0                                     dell lam gnumr\n",
       "1453607      0                                    nhặt đc cái áo \n",
       "2478201      0              anh van nguyen \\n#thuthachdetoxbuinum\n",
       "1210416      0  be mình k lên cân nhưng đi vs ngày numlần phân...\n",
       "2878811      0                             kiều linh tùy size b ạ"
      ],
      "text/html": "<div>\n<style scoped>\n    .dataframe tbody tr th:only-of-type {\n        vertical-align: middle;\n    }\n\n    .dataframe tbody tr th {\n        vertical-align: top;\n    }\n\n    .dataframe thead th {\n        text-align: right;\n    }\n</style>\n<table border=\"1\" class=\"dataframe\">\n  <thead>\n    <tr style=\"text-align: right;\">\n      <th></th>\n      <th>label</th>\n      <th>text</th>\n    </tr>\n  </thead>\n  <tbody>\n    <tr>\n      <th>2552039</th>\n      <td>0</td>\n      <td>{\"ynm_des\":\" dương dương xuất hiện tại sự kiện...</td>\n    </tr>\n    <tr>\n      <th>2184019</th>\n      <td>0</td>\n      <td>hha nhảy ngầu quá</td>\n    </tr>\n    <tr>\n      <th>1989594</th>\n      <td>0</td>\n      <td>dell lam gnumr</td>\n    </tr>\n    <tr>\n      <th>1453607</th>\n      <td>0</td>\n      <td>nhặt đc cái áo</td>\n    </tr>\n    <tr>\n      <th>2478201</th>\n      <td>0</td>\n      <td>anh van nguyen \\n#thuthachdetoxbuinum</td>\n    </tr>\n    <tr>\n      <th>1210416</th>\n      <td>0</td>\n      <td>be mình k lên cân nhưng đi vs ngày numlần phân...</td>\n    </tr>\n    <tr>\n      <th>2878811</th>\n      <td>0</td>\n      <td>kiều linh tùy size b ạ</td>\n    </tr>\n  </tbody>\n</table>\n</div>"
     },
     "metadata": {},
     "execution_count": 16
    }
   ],
   "source": [
    "test.sample(7)"
   ]
  },
  {
   "cell_type": "code",
   "execution_count": 17,
   "metadata": {},
   "outputs": [],
   "source": [
    "test.to_csv(os.path.join(data_path, test_file))\n",
    "valid.to_csv(os.path.join(data_path, valid_file))"
   ]
  },
  {
   "source": [
    "### Additional tokenization step for text "
   ],
   "cell_type": "markdown",
   "metadata": {}
  },
  {
   "cell_type": "code",
   "execution_count": 23,
   "metadata": {},
   "outputs": [],
   "source": [
    "from pyvi import ViTokenizer, ViPosTagger\n",
    "\n",
    "tokenize = lambda x: ViTokenizer.tokenize(x).split(' ')"
   ]
  },
  {
   "cell_type": "code",
   "execution_count": 22,
   "metadata": {},
   "outputs": [],
   "source": [
    "test_df = pd.read_csv(os.path.join(data_path, test_file), index_col = 0)\n",
    "train_df = pd.read_csv(os.path.join(data_path, train_file), usecols=[1, 2])\n",
    "valid_df = pd.read_csv(os.path.join(data_path, valid_file), index_col = 0)"
   ]
  },
  {
   "cell_type": "code",
   "execution_count": 26,
   "metadata": {},
   "outputs": [
    {
     "output_type": "stream",
     "name": "stdout",
     "text": [
      "Preprocessing pipeline initialized\n",
      "Dask Apply: 100%|██████████| 12/12 [00:44<00:00,  3.68s/it]\n",
      "Preprocessing pipeline initialized\n",
      "Dask Apply: 100%|██████████| 12/12 [02:50<00:00, 14.24s/it]\n",
      "Preprocessing pipeline initialized\n",
      "Dask Apply: 100%|██████████| 12/12 [00:44<00:00,  3.67s/it]\n"
     ]
    }
   ],
   "source": [
    "df_ = []\n",
    "for df in [test_df, train_df, valid_df]:\n",
    "    pipeline = YndataPreprocess.Processing_Pipeline()\n",
    "    df_temp = pipeline(df, 'text', tokenize)\n",
    "    df_.append(df_temp)"
   ]
  },
  {
   "cell_type": "code",
   "execution_count": 27,
   "metadata": {},
   "outputs": [
    {
     "output_type": "execute_result",
     "data": {
      "text/plain": [
       "         label                                               text\n",
       "2555469      0                        [em, mê, được, không, !, ?]\n",
       "185440       0  [numm, thì, dùng, physiolac, numcủa, pháp, ok,...\n",
       "1585737      0  [bà, soobin, đâu, mà, lạc, qua, mv, của, của, ...\n",
       "551787       0                           [hang, le, thử, đi, mom]\n",
       "1154605      0  [{, \", ynm_des, \", :, \", [, minigame, ], đếm, ...\n",
       "...        ...                                                ...\n",
       "13102        0  [diêp, ', s, pham, ', s, :, khổ, nhất_là, bố, ...\n",
       "1516884      0                                [hay, lắm, chị, ơi]\n",
       "2971565      0                           [loại, nay, ngon, lm, c]\n",
       "799315       0             [nguyễn, hồng_nhung, có, bill, nhé, ạ]\n",
       "1520605      0                           [đoạn, đầu, bị, ngã, đó]\n",
       "\n",
       "[458838 rows x 2 columns]"
      ],
      "text/html": "<div>\n<style scoped>\n    .dataframe tbody tr th:only-of-type {\n        vertical-align: middle;\n    }\n\n    .dataframe tbody tr th {\n        vertical-align: top;\n    }\n\n    .dataframe thead th {\n        text-align: right;\n    }\n</style>\n<table border=\"1\" class=\"dataframe\">\n  <thead>\n    <tr style=\"text-align: right;\">\n      <th></th>\n      <th>label</th>\n      <th>text</th>\n    </tr>\n  </thead>\n  <tbody>\n    <tr>\n      <th>2555469</th>\n      <td>0</td>\n      <td>[em, mê, được, không, !, ?]</td>\n    </tr>\n    <tr>\n      <th>185440</th>\n      <td>0</td>\n      <td>[numm, thì, dùng, physiolac, numcủa, pháp, ok,...</td>\n    </tr>\n    <tr>\n      <th>1585737</th>\n      <td>0</td>\n      <td>[bà, soobin, đâu, mà, lạc, qua, mv, của, của, ...</td>\n    </tr>\n    <tr>\n      <th>551787</th>\n      <td>0</td>\n      <td>[hang, le, thử, đi, mom]</td>\n    </tr>\n    <tr>\n      <th>1154605</th>\n      <td>0</td>\n      <td>[{, \", ynm_des, \", :, \", [, minigame, ], đếm, ...</td>\n    </tr>\n    <tr>\n      <th>...</th>\n      <td>...</td>\n      <td>...</td>\n    </tr>\n    <tr>\n      <th>13102</th>\n      <td>0</td>\n      <td>[diêp, ', s, pham, ', s, :, khổ, nhất_là, bố, ...</td>\n    </tr>\n    <tr>\n      <th>1516884</th>\n      <td>0</td>\n      <td>[hay, lắm, chị, ơi]</td>\n    </tr>\n    <tr>\n      <th>2971565</th>\n      <td>0</td>\n      <td>[loại, nay, ngon, lm, c]</td>\n    </tr>\n    <tr>\n      <th>799315</th>\n      <td>0</td>\n      <td>[nguyễn, hồng_nhung, có, bill, nhé, ạ]</td>\n    </tr>\n    <tr>\n      <th>1520605</th>\n      <td>0</td>\n      <td>[đoạn, đầu, bị, ngã, đó]</td>\n    </tr>\n  </tbody>\n</table>\n<p>458838 rows × 2 columns</p>\n</div>"
     },
     "metadata": {},
     "execution_count": 27
    }
   ],
   "source": [
    "df_[0]"
   ]
  },
  {
   "cell_type": "code",
   "execution_count": null,
   "metadata": {},
   "outputs": [],
   "source": []
  }
 ]
}