{
 "metadata": {
  "language_info": {
   "codemirror_mode": {
    "name": "ipython",
    "version": 3
   },
   "file_extension": ".py",
   "mimetype": "text/x-python",
   "name": "python",
   "nbconvert_exporter": "python",
   "pygments_lexer": "ipython3",
   "version": "3.8.5-final"
  },
  "orig_nbformat": 2,
  "kernelspec": {
   "name": "python3",
   "display_name": "Python 3"
  }
 },
 "nbformat": 4,
 "nbformat_minor": 2,
 "cells": [
  {
   "cell_type": "code",
   "execution_count": 1,
   "metadata": {},
   "outputs": [],
   "source": [
    "import os\n",
    "os.chdir(\"C:\\\\Users\\\\Uyen\\\\Documents\\\\nlp\\\\thesis\")"
   ]
  },
  {
   "cell_type": "code",
   "execution_count": 2,
   "metadata": {},
   "outputs": [],
   "source": [
    "import swifter\n",
    "import string\n",
    "import pandas as pd\n",
    "\n",
    "import YndataPreprocess"
   ]
  },
  {
   "cell_type": "code",
   "execution_count": 3,
   "metadata": {},
   "outputs": [],
   "source": [
    "DATA_FILE = \"../YNdata/PRICE_MAY_NOV_2019_cleaned.csv\"\n",
    "train_df = pd.read_csv(DATA_FILE)\n",
    "df = train_df[['label', 'search_text']]"
   ]
  },
  {
   "cell_type": "code",
   "execution_count": 14,
   "metadata": {},
   "outputs": [],
   "source": [
    "# import importlib\n",
    "\n",
    "# importlib.reload(YndataPreprocess)\n",
    "# import YndataPreprocess"
   ]
  },
  {
   "cell_type": "code",
   "execution_count": 28,
   "metadata": {},
   "outputs": [
    {
     "output_type": "stream",
     "name": "stdout",
     "text": [
      "Preprocessing pipeline initialized\n",
      "Dask Apply: 100%|██████████| 12/12 [00:12<00:00,  1.03s/it]\n",
      "Dask Apply: 100%|██████████| 12/12 [00:52<00:00,  4.41s/it]\n",
      "Dask Apply: 100%|██████████| 12/12 [00:10<00:00,  1.11it/s]\n"
     ]
    }
   ],
   "source": [
    "pipeline = YndataPreprocess.Processing_Pipeline()\n",
    "df_ = pipeline(df, 'search_text', YndataPreprocess.get_text, YndataPreprocess.pattern_replace, YndataPreprocess.normalize)"
   ]
  },
  {
   "cell_type": "code",
   "execution_count": 29,
   "metadata": {},
   "outputs": [
    {
     "output_type": "execute_result",
     "data": {
      "text/plain": [
       "         label                                        search_text\n",
       "0            1  friso có đắt không chị nhỉ lon tầm mấy tiền đó...\n",
       "1            1  bao tiền NUMlon sữa friso này đấy nhỉ? sữa có ...\n",
       "2            1                       sữa này giá bao nhiêu đó chị\n",
       "3            1  friso này giá sao vậy chịơi? sữa này có sữa ch...\n",
       "4            1          thu hồng cho e xin giá của frisolac vs ạ.\n",
       "...        ...                                                ...\n",
       "3070342      0           bỉm quần pamper mNUM/lNUM/xlNUM(date mới\n",
       "3070343      0   hcm]tã dán pampers nhật bản size nbNUM/sNUM/mNUM\n",
       "3070344      0                        tã quần pampers mNUM/lNUM/x\n",
       "3070345      0  (mẫu mới) tã quần pamper nguyên liệu NUM% nhập...\n",
       "3070346      0               tã dán/tã quần pamper mNUM/mNUM/mNUM\n",
       "\n",
       "[3070333 rows x 2 columns]"
      ],
      "text/html": "<div>\n<style scoped>\n    .dataframe tbody tr th:only-of-type {\n        vertical-align: middle;\n    }\n\n    .dataframe tbody tr th {\n        vertical-align: top;\n    }\n\n    .dataframe thead th {\n        text-align: right;\n    }\n</style>\n<table border=\"1\" class=\"dataframe\">\n  <thead>\n    <tr style=\"text-align: right;\">\n      <th></th>\n      <th>label</th>\n      <th>search_text</th>\n    </tr>\n  </thead>\n  <tbody>\n    <tr>\n      <th>0</th>\n      <td>1</td>\n      <td>friso có đắt không chị nhỉ lon tầm mấy tiền đó...</td>\n    </tr>\n    <tr>\n      <th>1</th>\n      <td>1</td>\n      <td>bao tiền NUMlon sữa friso này đấy nhỉ? sữa có ...</td>\n    </tr>\n    <tr>\n      <th>2</th>\n      <td>1</td>\n      <td>sữa này giá bao nhiêu đó chị</td>\n    </tr>\n    <tr>\n      <th>3</th>\n      <td>1</td>\n      <td>friso này giá sao vậy chịơi? sữa này có sữa ch...</td>\n    </tr>\n    <tr>\n      <th>4</th>\n      <td>1</td>\n      <td>thu hồng cho e xin giá của frisolac vs ạ.</td>\n    </tr>\n    <tr>\n      <th>...</th>\n      <td>...</td>\n      <td>...</td>\n    </tr>\n    <tr>\n      <th>3070342</th>\n      <td>0</td>\n      <td>bỉm quần pamper mNUM/lNUM/xlNUM(date mới</td>\n    </tr>\n    <tr>\n      <th>3070343</th>\n      <td>0</td>\n      <td>hcm]tã dán pampers nhật bản size nbNUM/sNUM/mNUM</td>\n    </tr>\n    <tr>\n      <th>3070344</th>\n      <td>0</td>\n      <td>tã quần pampers mNUM/lNUM/x</td>\n    </tr>\n    <tr>\n      <th>3070345</th>\n      <td>0</td>\n      <td>(mẫu mới) tã quần pamper nguyên liệu NUM% nhập...</td>\n    </tr>\n    <tr>\n      <th>3070346</th>\n      <td>0</td>\n      <td>tã dán/tã quần pamper mNUM/mNUM/mNUM</td>\n    </tr>\n  </tbody>\n</table>\n<p>3070333 rows × 2 columns</p>\n</div>"
     },
     "metadata": {},
     "execution_count": 29
    }
   ],
   "source": [
    "df_"
   ]
  },
  {
   "cell_type": "code",
   "execution_count": 30,
   "metadata": {},
   "outputs": [],
   "source": [
    "df_.to_csv(DATA_FILE)"
   ]
  },
  {
   "cell_type": "code",
   "execution_count": 32,
   "metadata": {},
   "outputs": [
    {
     "output_type": "execute_result",
     "data": {
      "text/plain": [
       "(3070333, 2)"
      ]
     },
     "metadata": {},
     "execution_count": 32
    }
   ],
   "source": [
    "df_.shape"
   ]
  },
  {
   "cell_type": "code",
   "execution_count": null,
   "metadata": {},
   "outputs": [],
   "source": []
  }
 ]
}